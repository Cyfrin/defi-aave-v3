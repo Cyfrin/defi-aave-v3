{
 "cells": [
  {
   "cell_type": "code",
   "execution_count": null,
   "id": "855cf9e8-bf85-42a6-8401-b8ea6f731289",
   "metadata": {},
   "outputs": [],
   "source": [
    "!pip install numpy\n",
    "!pip install matplotlib"
   ]
  },
  {
   "cell_type": "code",
   "execution_count": 6,
   "id": "6e940d6b-3237-43f7-a62a-7db152b0febb",
   "metadata": {},
   "outputs": [],
   "source": [
    "# binomial expansion\n",
    "# (1+x)^n = 1 + n*x + (n*(n-1)/2*x^2) + (n*(n-1)*(n-2)/(2*3)*x^3) + ...\n",
    "\n",
    "RAY = 1e27\n",
    "\n",
    "# r = 1 + x\n",
    "def binomial_approx(r, n):\n",
    "    if r > RAY:\n",
    "        x = r - RAY\n",
    "        x1 = n * x\n",
    "        x2 = x1 * ((n - 1) if n > 1 else 0) / 2 * x / RAY\n",
    "        x3 = x2 * ((n - 2) if n > 2 else 0) / 3 * x / RAY\n",
    "        return RAY + x1 + x2 + x3\n",
    "    elif r < RAY:\n",
    "        x = RAY - r\n",
    "        x1 = n * x\n",
    "        x2 = x1 * ((n - 1) if n > 1 else 0) / 2 * x / RAY\n",
    "        x3 = x2 * ((n - 2) if n > 2 else 0) / 3 * x / RAY\n",
    "        return RAY - x1 + x2 - x3\n",
    "    else:\n",
    "        return RAY"
   ]
  },
  {
   "cell_type": "code",
   "execution_count": 13,
   "id": "62b78d93-4d59-4edd-9916-f9b907091e1b",
   "metadata": {},
   "outputs": [
    {
     "data": {
      "image/png": "[encoded data removed]",
      "text/plain": [
       "<Figure size 432x288 with 1 Axes>"
      ]
     },
     "metadata": {
      "needs_background": "light"
     },
     "output_type": "display_data"
    },
    {
     "name": "stdout",
     "output_type": "stream",
     "text": [
      "7.3889253673702e+27\n",
      "6.33326256224876e+27\n",
      "1.0556628051214401e+27\n"
     ]
    }
   ],
   "source": [
    "import numpy as np\n",
    "import matplotlib.pyplot as plt\n",
    "\n",
    "N = 365 * 24 ^ 3600\n",
    "T = N * 20\n",
    "RAY = 1e27\n",
    "R = 0.10 * RAY\n",
    "\n",
    "y = RAY\n",
    "ys = [y]\n",
    "zs = [binomial_approx(0, 0)]\n",
    "\n",
    "for i in range(1, T):\n",
    "    y *= (RAY + R/N) / RAY\n",
    "    z = binomial_approx(RAY + R/N, i)\n",
    "    ys.append(y)\n",
    "    zs.append(z)\n",
    "\n",
    "plt.plot(ys, label = \"exact\")\n",
    "plt.plot(zs, label = \"approx\")\n",
    "plt.legend()\n",
    "plt.show()\n",
    "\n",
    "print(ys[-1])\n",
    "print(zs[-1])\n",
    "print(ys[-1] - zs[-1])"
   ]
  }
 ],
 "metadata": {
  "kernelspec": {
   "display_name": "Python 3 (ipykernel)",
   "language": "python",
   "name": "python3"
  },
  "language_info": {
   "codemirror_mode": {
    "name": "ipython",
    "version": 3
   },
   "file_extension": ".py",
   "mimetype": "text/x-python",
   "name": "python",
   "nbconvert_exporter": "python",
   "pygments_lexer": "ipython3",
   "version": "3.10.11"
  }
 },
 "nbformat": 4,
 "nbformat_minor": 5
}
